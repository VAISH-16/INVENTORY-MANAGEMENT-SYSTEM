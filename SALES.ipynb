{
  "nbformat": 4,
  "nbformat_minor": 0,
  "metadata": {
    "colab": {
      "name": "SALES.ipynb",
      "provenance": [],
      "authorship_tag": "ABX9TyO4lmBk6q5YYqsztrRfgtBU",
      "include_colab_link": true
    },
    "kernelspec": {
      "name": "python3",
      "display_name": "Python 3"
    },
    "language_info": {
      "name": "python"
    }
  },
  "cells": [
    {
      "cell_type": "markdown",
      "metadata": {
        "id": "view-in-github",
        "colab_type": "text"
      },
      "source": [
        "<a href=\"https://colab.research.google.com/github/VAISH-16/INVENTORY-MANAGEMENT-SYSTEM/blob/main/SALES.ipynb\" target=\"_parent\"><img src=\"https://colab.research.google.com/assets/colab-badge.svg\" alt=\"Open In Colab\"/></a>"
      ]
    },
    {
      "cell_type": "code",
      "metadata": {
        "id": "1xZOjx3p6CLP"
      },
      "source": [
        "fd = open('records.txt.txt','r')\n",
        "txt = fd.read()\n",
        "fd.close()"
      ],
      "execution_count": 239,
      "outputs": []
    },
    {
      "cell_type": "code",
      "metadata": {
        "colab": {
          "base_uri": "https://localhost:8080/"
        },
        "id": "UJgbBMJM8c0v",
        "outputId": "72cfc53a-71bd-45e9-a1c0-b99fb3120247"
      },
      "source": [
        "products = txt.split(\"\\n\")\n",
        "\n",
        "ui_prod  = str(input(\"Enter the product_Id: \"))\n",
        "Sold_quant = int(input(\"Enter the quantity: \"))\n",
        "\n",
        "for product in products:\n",
        "    prod = product.split(\",\")\n",
        "    \n",
        "    \n",
        "    if(prod[0] == ui_prod):\n",
        "        print(\"***********************\")\n",
        "        print(\"Product ID: \", prod[0])\n",
        "        print(\"Name: \", prod[1])\n",
        "        print(\"Brand_Name: \",prod[2])\n",
        "        print(\"Opening Quantity: \",prod[3])\n",
        "        print(\"Closing Quantity \",int(prod[3]) - Sold_quant)\n",
        "        print(\"Sale_Price: \",prod[5])\n",
        "        print(\"Purchase_Price: \",prod[6])\n",
        "        Sale_at = Sold_quant * int(prod[5]) \n",
        "        Purchase_at = Sold_quant * int(prod[6])\n",
        "        profit =  Sale_at - Purchase_at\n",
        "        print(\"------------------------\")\n",
        "        print(\"Profit: \",profit)\n",
        "        print(\"------------------------\")\n",
        "        print(\"Earned Amout: \", Sold_quant * int(prod[5]))\n",
        "        print(\"***********************\")"
      ],
      "execution_count": 265,
      "outputs": [
        {
          "output_type": "stream",
          "name": "stdout",
          "text": [
            "Enter the product_Id: 556677\n",
            "Enter the quantity: 67\n",
            "***********************\n",
            "Product ID:  556677\n",
            "Name:  'Bournville'\n",
            "Brand_Name:   'Cadbury'\n",
            "Opening Quantity:   100\n",
            "Closing Quantity  33\n",
            "Sale_Price:  100 \n",
            "Purchase_Price:   75\n",
            "------------------------\n",
            "Profit:  1675\n",
            "------------------------\n",
            "Earned Amout:  6700\n",
            "***********************\n"
          ]
        }
      ]
    },
    {
      "cell_type": "code",
      "metadata": {
        "id": "dzNaI3T88m5P"
      },
      "source": [
        "new_record = []\n",
        "\n",
        "for product in products:\n",
        "    prod = product.split(\",\")\n",
        "    if(ui_prod == prod[0]):\n",
        "        opening_quant = str(int(prod[3]) - Sold_quant)\n",
        "        prod[3] = opening_quant\n",
        "        \n",
        "    new_record.append(prod[0] + \",\" + prod[1] + \",\" + prod[2] + \",\" + prod[3] +  \",\" + prod[4] + \",\" + prod[5] + \",\" + prod[6] + \"\\n\")\n",
        "    \n",
        "new_record[-1] = new_record[-1][:-1]"
      ],
      "execution_count": 269,
      "outputs": []
    },
    {
      "cell_type": "code",
      "metadata": {
        "id": "XgaYK3bN_8X6"
      },
      "source": [
        "fd = open(\"Records.txt\", 'w')\n",
        "\n",
        "for i in new_record:\n",
        "    fd.write(i)\n",
        "    \n",
        "fd.close()"
      ],
      "execution_count": 260,
      "outputs": []
    },
    {
      "cell_type": "code",
      "metadata": {
        "id": "UnVQ_RizOU81"
      },
      "source": [
        ""
      ],
      "execution_count": 270,
      "outputs": []
    },
    {
      "cell_type": "code",
      "metadata": {
        "id": "YIkamm3BgZ9S"
      },
      "source": [
        ""
      ],
      "execution_count": null,
      "outputs": []
    }
  ]
}