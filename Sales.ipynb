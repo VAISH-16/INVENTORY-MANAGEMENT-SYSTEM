{
  "nbformat": 4,
  "nbformat_minor": 0,
  "metadata": {
    "colab": {
      "name": "Sales.ipynb",
      "provenance": [],
      "collapsed_sections": []
    },
    "kernelspec": {
      "name": "python3",
      "display_name": "Python 3"
    },
    "language_info": {
      "name": "python"
    }
  },
  "cells": [
    {
      "cell_type": "code",
      "metadata": {
        "id": "xR_sQXqo_XzJ"
      },
      "source": [
        "import json"
      ],
      "execution_count": 45,
      "outputs": []
    },
    {
      "cell_type": "code",
      "metadata": {
        "id": "3ODW1Szb_lI1"
      },
      "source": [
        "record = { 556671: {'Product name' : 'Dairy Milk', 'Brand Name' : 'Cadbury', 'Opening Quantity' : 100 , 'Sales Quantity' : 50, 'Closing Quantity' : 100, 'Sale Price' : 100, 'Purchase Price': 80 },\n",
        "           556672: {'Product name' : 'Kitkat','Brand Name' : 'Nestle global', 'Opening Quantity': 100 , 'Sales Quantity':50, 'Closing Quantity':100   ,'Sale Price': 40, 'Purchase Price': 20},\n",
        "            556673: {'Product name' : 'Five star', 'Brand Name' :'Cadbury', 'Opening Quantity':100     , 'Sales Quantity': 25   , 'Closing Quantity':100    ,'Sale Price': 10, 'Purchase Price': 5},\n",
        "            556674: {'Product name' :'Eclairs', 'Brand Name' : 'Cadbury', 'Opening Quantity':100   , 'Sales Quantity': 25   , 'Closing Quantity':100    ,'Sale Price': 2, 'Purchase Price': 1},\n",
        "            556675: {'Product name' : 'Dark Fantasy', 'Brand Name' : 'SunFeast', 'Opening Quantity':100  , 'Sales Quantity':70    , 'Closing Quantity':100   ,'Sale Price': 50, 'Purchase Price':40},\n",
        "            556676: {'Product name' : 'Perk', 'Brand Name' :'Cadbury', 'Opening Quantity':100 , 'Sales Quantity': 29   , 'Closing Quantity':100   ,'Sale Price': 20, 'Purchase Price':15},\n",
        "            556677: {'Product name' :'Bournville', 'Brand Name': 'Cadbury', 'Opening Quantity':100, 'Sales Quantity': 0   , 'Closing Quantity':100   ,'Sale Price': 100 , 'Purchase Price':75},\n",
        "            556678: {'Product name' :'Dark Chocolate','Brand Name' :'Amul', 'Opening Quantity':100 , 'Sales Quantity':22    , 'Closing Quantity': 100   ,'Sale Price': 100, 'Purchase Price':80},\n",
        "            }"
      ],
      "execution_count": 46,
      "outputs": []
    },
    {
      "cell_type": "code",
      "metadata": {
        "colab": {
          "base_uri": "https://localhost:8080/"
        },
        "id": "LtZEfZIzGzEp",
        "outputId": "f3fa4c9c-9078-4e49-fff3-e6d4eaed95fc"
      },
      "source": [
        "record"
      ],
      "execution_count": 47,
      "outputs": [
        {
          "output_type": "execute_result",
          "data": {
            "text/plain": [
              "{556671: {'Brand Name': 'Cadbury',\n",
              "  'Closing Quantity': 100,\n",
              "  'Opening Quantity': 100,\n",
              "  'Product name': 'Dairy Milk',\n",
              "  'Purchase Price': 80,\n",
              "  'Sale Price': 100,\n",
              "  'Sales Quantity': 50},\n",
              " 556672: {'Brand Name': 'Nestle global',\n",
              "  'Closing Quantity': 100,\n",
              "  'Opening Quantity': 100,\n",
              "  'Product name': 'Kitkat',\n",
              "  'Purchase Price': 20,\n",
              "  'Sale Price': 40,\n",
              "  'Sales Quantity': 50},\n",
              " 556673: {'Brand Name': 'Cadbury',\n",
              "  'Closing Quantity': 100,\n",
              "  'Opening Quantity': 100,\n",
              "  'Product name': 'Five star',\n",
              "  'Purchase Price': 5,\n",
              "  'Sale Price': 10,\n",
              "  'Sales Quantity': 25},\n",
              " 556674: {'Brand Name': 'Cadbury',\n",
              "  'Closing Quantity': 100,\n",
              "  'Opening Quantity': 100,\n",
              "  'Product name': 'Eclairs',\n",
              "  'Purchase Price': 1,\n",
              "  'Sale Price': 2,\n",
              "  'Sales Quantity': 25},\n",
              " 556675: {'Brand Name': 'SunFeast',\n",
              "  'Closing Quantity': 100,\n",
              "  'Opening Quantity': 100,\n",
              "  'Product name': 'Dark Fantasy',\n",
              "  'Purchase Price': 40,\n",
              "  'Sale Price': 50,\n",
              "  'Sales Quantity': 70},\n",
              " 556676: {'Brand Name': 'Cadbury',\n",
              "  'Closing Quantity': 100,\n",
              "  'Opening Quantity': 100,\n",
              "  'Product name': 'Perk',\n",
              "  'Purchase Price': 15,\n",
              "  'Sale Price': 20,\n",
              "  'Sales Quantity': 29},\n",
              " 556677: {'Brand Name': 'Cadbury',\n",
              "  'Closing Quantity': 100,\n",
              "  'Opening Quantity': 100,\n",
              "  'Product name': 'Bournville',\n",
              "  'Purchase Price': 75,\n",
              "  'Sale Price': 100,\n",
              "  'Sales Quantity': 0},\n",
              " 556678: {'Brand Name': 'Amul',\n",
              "  'Closing Quantity': 100,\n",
              "  'Opening Quantity': 100,\n",
              "  'Product name': 'Dark Chocolate',\n",
              "  'Purchase Price': 80,\n",
              "  'Sale Price': 100,\n",
              "  'Sales Quantity': 22}}"
            ]
          },
          "metadata": {},
          "execution_count": 47
        }
      ]
    },
    {
      "cell_type": "code",
      "metadata": {
        "id": "e3f4P0TaKbMc"
      },
      "source": [
        "js = json.dumps(record)"
      ],
      "execution_count": 48,
      "outputs": []
    },
    {
      "cell_type": "code",
      "metadata": {
        "colab": {
          "base_uri": "https://localhost:8080/",
          "height": 154
        },
        "id": "05JRbVg8KkmE",
        "outputId": "a3cb5074-a463-4881-d168-27e517d0dc83"
      },
      "source": [
        "js"
      ],
      "execution_count": 49,
      "outputs": [
        {
          "output_type": "execute_result",
          "data": {
            "application/vnd.google.colaboratory.intrinsic+json": {
              "type": "string"
            },
            "text/plain": [
              "'{\"556671\": {\"Product name\": \"Dairy Milk\", \"Brand Name\": \"Cadbury\", \"Opening Quantity\": 100, \"Sales Quantity\": 50, \"Closing Quantity\": 100, \"Sale Price\": 100, \"Purchase Price\": 80}, \"556672\": {\"Product name\": \"Kitkat\", \"Brand Name\": \"Nestle global\", \"Opening Quantity\": 100, \"Sales Quantity\": 50, \"Closing Quantity\": 100, \"Sale Price\": 40, \"Purchase Price\": 20}, \"556673\": {\"Product name\": \"Five star\", \"Brand Name\": \"Cadbury\", \"Opening Quantity\": 100, \"Sales Quantity\": 25, \"Closing Quantity\": 100, \"Sale Price\": 10, \"Purchase Price\": 5}, \"556674\": {\"Product name\": \"Eclairs\", \"Brand Name\": \"Cadbury\", \"Opening Quantity\": 100, \"Sales Quantity\": 25, \"Closing Quantity\": 100, \"Sale Price\": 2, \"Purchase Price\": 1}, \"556675\": {\"Product name\": \"Dark Fantasy\", \"Brand Name\": \"SunFeast\", \"Opening Quantity\": 100, \"Sales Quantity\": 70, \"Closing Quantity\": 100, \"Sale Price\": 50, \"Purchase Price\": 40}, \"556676\": {\"Product name\": \"Perk\", \"Brand Name\": \"Cadbury\", \"Opening Quantity\": 100, \"Sales Quantity\": 29, \"Closing Quantity\": 100, \"Sale Price\": 20, \"Purchase Price\": 15}, \"556677\": {\"Product name\": \"Bournville\", \"Brand Name\": \"Cadbury\", \"Opening Quantity\": 100, \"Sales Quantity\": 0, \"Closing Quantity\": 100, \"Sale Price\": 100, \"Purchase Price\": 75}, \"556678\": {\"Product name\": \"Dark Chocolate\", \"Brand Name\": \"Amul\", \"Opening Quantity\": 100, \"Sales Quantity\": 22, \"Closing Quantity\": 100, \"Sale Price\": 100, \"Purchase Price\": 80}}'"
            ]
          },
          "metadata": {},
          "execution_count": 49
        }
      ]
    },
    {
      "cell_type": "code",
      "metadata": {
        "id": "MPbOZ3Cp5XYe"
      },
      "source": [
        ""
      ],
      "execution_count": 49,
      "outputs": []
    },
    {
      "cell_type": "code",
      "metadata": {
        "id": "6vE_rXyy4ZHU"
      },
      "source": [
        "\n",
        "Dairy_Milk = 24 #@param {type:\"slider\", min:0, max:100, step:1}\n",
        "Kitkat = 7 #@param {type:\"slider\", min:0, max:100, step:1}\n",
        "Five_star = 37 #@param {type:\"slider\", min:0, max:100, step:1}\n",
        "Eclairs = 34 #@param {type:\"slider\", min:0, max:100, step:1}\n",
        "Dark_Fantacy = 46 #@param {type:\"slider\", min:0, max:100, step:1}\n",
        "Perk = 39 #@param {type:\"slider\", min:0, max:100, step:1}\n",
        "Bournville = 29 #@param {type:\"slider\", min:0, max:100, step:1}\n",
        "Dark_Chocolate = 21 #@param {type:\"slider\", min:0, max:100, step:1}\n"
      ],
      "execution_count": 55,
      "outputs": []
    },
    {
      "cell_type": "code",
      "metadata": {
        "colab": {
          "base_uri": "https://localhost:8080/"
        },
        "id": "cq6kwCKlCzyE",
        "outputId": "af2954a5-c937-4fb6-de60-55f4476318d9"
      },
      "source": [
        "Total_Sale = Dairy_Milk + Kitkat + Five_star + Eclairs + Dark_Fantacy + Perk + Bournville + Dark_Chocolate\n",
        "print('Total Sale is',Total_Sale, 'Chocolates')"
      ],
      "execution_count": 59,
      "outputs": [
        {
          "output_type": "stream",
          "name": "stdout",
          "text": [
            "Total Sale is 234 Chocolates\n"
          ]
        }
      ]
    },
    {
      "cell_type": "code",
      "metadata": {
        "colab": {
          "base_uri": "https://localhost:8080/"
        },
        "id": "QlL5mO2dKuZR",
        "outputId": "75a34b55-657d-4647-8a40-9b6ce5cba339"
      },
      "source": [
        "\n",
        "Product_ID = input('Enter the Product ID : ')\n",
        "\n",
        "if(Product_ID == '556671'):\n",
        "   print('Customers have purchased',  Dairy_Milk,'Dairy Milk')\n",
        "   record[556671]['Closing Quantity'] = record[556671]['Opening Quantity'] - Dairy_Milk\n",
        "   Closing_Quantity = record[556671]['Closing Quantity']\n",
        "   print('Closing Quantity is ',Closing_Quantity  )\n",
        "   Opening_Quantity = record[556671]['Opening Quantity']\n",
        "   print('Opening Quantity was ', Opening_Quantity)\n",
        "\n",
        "elif(Product_ID == '556672'):\n",
        "   print('Customers have purchased' , Kitkat,'Kitkat')\n",
        "   record[556672]['Closing Quantity'] = record[556672]['Opening Quantity'] - Kitkat\n",
        "   Closing_Quantity = record[556672]['Closing Quantity']\n",
        "   print('Closing Quantity is ',Closing_Quantity  )\n",
        "   Opening_Quantity = record[556672]['Opening Quantity']\n",
        "   print('Opening Quantity was ', Opening_Quantity)\n",
        "   \n",
        "elif(Product_ID == '556673'):\n",
        "   \n",
        "   print('Customers have purchased' , Five_star,'Five Star')\n",
        "   record[556673]['Closing Quantity'] = record[556673]['Opening Quantity'] - Five_star\n",
        "   Closing_Quantity = record[556673]['Closing Quantity']\n",
        "   print('Closing Quantity is ',Closing_Quantity  )\n",
        "   Opening_Quantity = record[556673]['Opening Quantity']\n",
        "   print('Opening Quantity was ', Opening_Quantity)\n",
        "   \n",
        "elif(Product_ID == '556674'):\n",
        "   print('Customers have purchased' , Eclairs,'Eclairs')\n",
        "   record[556674]['Closing Quantity'] = record[556674]['Opening Quantity'] - Eclairs\n",
        "   Closing_Quantity = record[556674]['Closing Quantity']\n",
        "   print('Closing Quantity is ',Closing_Quantity  )\n",
        "   Opening_Quantity = record[556674]['Opening Quantity']\n",
        "   print('Opening Quantity was ', Opening_Quantity)\n",
        "   \n",
        "elif(Product_ID == '556675'):\n",
        "   print('Customers have purchased' , Dark_Fantasy, 'Dark Fantasy')\n",
        "   record[556675]['Closing Quantity'] = record[556675]['Opening Quantity'] - Dark_Fantasy\n",
        "   Closing_Quantity = record[556675]['Closing Quantity']\n",
        "   print('Closing Quantity is ',Closing_Quantity  )\n",
        "   Opening_Quantity = record[556675]['Opening Quantity']\n",
        "   print('Opening Quantity was ', Opening_Quantity)\n",
        "   \n",
        "elif(Product_ID == '556676'):\n",
        "   print('Customers have purchased' , Perk,'Perk')\n",
        "   record[556676]['Closing Quantity'] = record[556676]['Opening Quantity'] - Perk\n",
        "   Closing_Quantity = record[556676]['Closing Quantity']\n",
        "   print('Closing Quantity is ',Closing_Quantity  )\n",
        "   Opening_Quantity = record[556676]['Opening Quantity']\n",
        "   print('Opening Quantity was ', Opening_Quantity)\n",
        "   \n",
        "elif(Product_ID == '556677'):\n",
        "   print('Customers have purchased' , Bournville,'Bournville')\n",
        "   record[556677]['Closing Quantity'] = record[556677]['Opening Quantity'] - Bournville\n",
        "   Closing_Quantity = record[556677]['Closing Quantity']\n",
        "   print('Closing Quantity is ',Closing_Quantity  )\n",
        "   Opening_Quantity = record[556677]['Opening Quantity']\n",
        "   print('Opening Quantity was ', Opening_Quantity)\n",
        "   \n",
        "elif(Product_ID == '556678'):\n",
        "   print('Customers have purchased' , Dark_Chocolate, 'Dark Chocolate')\n",
        "   record[556678]['Closing Quantity'] = record[556678]['Opening Quantity'] - Dark_Chocolate\n",
        "   Closing_Quantity = record[556678]['Closing Quantity']\n",
        "   print('Closing Quantity is ',Closing_Quantity  )\n",
        "   Opening_Quantity = record[556678]['Opening Quantity']\n",
        "   print('Opening Quantity was ', Opening_Quantity)\n",
        "   \n",
        "else:\n",
        "  print(\"********Invalid Product ID********* \")"
      ],
      "execution_count": 62,
      "outputs": [
        {
          "output_type": "stream",
          "name": "stdout",
          "text": [
            "Enter the Product ID : 556673\n",
            "Customers have purchased 37 Five Star\n",
            "Closing Quantity is  63\n",
            "Opening Quantity was  100\n"
          ]
        }
      ]
    },
    {
      "cell_type": "code",
      "metadata": {
        "id": "jaGN80z1MY0f",
        "colab": {
          "base_uri": "https://localhost:8080/"
        },
        "outputId": "a2a92d30-d4a2-4ea3-c19e-56af75846796"
      },
      "source": [
        "profit1 = 0\n",
        "profit2 = 0\n",
        "profit3 = 0\n",
        "profit4 = 0\n",
        "profit5 = 0\n",
        "profit6 = 0\n",
        "profit7 = 0\n",
        "profit8 = 0\n",
        "print(\"To check your profit \")\n",
        "\n",
        "if(Dairy_Milk != 0):\n",
        "   Sale_at = Dairy_Milk * record[556671]['Sale Price']\n",
        "   Purchase_at = Dairy_Milk * record[556671]['Purchase Price']\n",
        "   profit1 =  Sale_at - Purchase_at \n",
        "   print(\"Hurray you have got profit of Rs\",profit1,\"on Dairy Milk\")\n",
        "   \n",
        "if(Kitkat != 0):\n",
        "   Sale_at = Kitkat  * record[556672]['Sale Price']\n",
        "   Purchase_at = Kitkat * record[556672]['Purchase Price']\n",
        "   profit2 =  Sale_at - Purchase_at\n",
        "   print(\"Hurray you have got profit of Rs\",profit2,\"on Kitkat\")\n",
        "   \n",
        "if(Five_star != 0):\n",
        "   Sale_at = Five_star * record[556673]['Sale Price']\n",
        "   Purchase_at = Five_star * record[556673]['Purchase Price']\n",
        "   profit3 =  Sale_at - Purchase_at\n",
        "   print(\"Hurray you have got profit of Rs\",profit3,\"on Five Star\")\n",
        "   \n",
        "if(Eclairs != 0):\n",
        "   Sale_at = Eclairs * record[556674]['Sale Price']\n",
        "   Purchase_at = Eclairs * record[556674]['Purchase Price']\n",
        "   profit4 =  Sale_at - Purchase_at\n",
        "   print(\"Hurray you have got profit of Rs\",profit4,\"on Eclairs\")\n",
        "   \n",
        "if(Dark_Fantacy != 0):\n",
        "   Sale_at = Dark_Fantacy * record[556675]['Sale Price']\n",
        "   Purchase_at = Dark_Fantacy * record[556675]['Purchase Price']\n",
        "   profit5 =  Sale_at - Purchase_at\n",
        "   print(\"Hurray you have got profit of Rs\",profit5,\"on Dark Fantacy\")\n",
        "   \n",
        "elif(Perk != 0):\n",
        "   Product_name = record[556676]['Product name']\n",
        "   Sale_at = Perk * record[556676]['Sale Price']\n",
        "   Purchase_at = Perk * record[556676]['Purchase Price']\n",
        "   profit6 =  Sale_at - Purchase_at\n",
        "   print(\"Hurray you have got profit of Rs\",profit6,\"on Perk\")\n",
        "   \n",
        "if(Bournville != 0):\n",
        "   Sale_at = Bournville * record[556677]['Sale Price']\n",
        "   Purchase_at = Bournville * record[556677]['Purchase Price']\n",
        "   profit7 =  Sale_at - Purchase_at\n",
        "   print(\"Hurray you have got profit of Rs\",profit7,\"on Bournville\")\n",
        "   \n",
        "if(Dark_Chocolate != 0):\n",
        "   Sale_at = Dark_Chocolate * record[556678]['Sale Price']\n",
        "   Purchase_at = Dark_Chocolate * record[556678]['Purchase Price']\n",
        "   profit8 =  Sale_at - Purchase_at\n",
        "   print(\"Hurray you have got profit of Rs\",profit8,\"on Dark Chocolate\")\n",
        "\n",
        "\n",
        "\n",
        "\n",
        "Total_Profit = profit1 + profit2 + profit3 + profit4 + profit5 + profit6 + profit7 + profit8\n",
        "print(\"Hurray Total Profit is Rs. \",Total_Profit)  \n",
        "\n"
      ],
      "execution_count": 64,
      "outputs": [
        {
          "output_type": "stream",
          "name": "stdout",
          "text": [
            "To check your profit \n",
            "Hurray you have got profit of Rs 480 on Dairy Milk\n",
            "Hurray you have got profit of Rs 80 on Kitkat\n",
            "Hurray you have got profit of Rs 185 on Five Star\n",
            "Hurray you have got profit of Rs 34 on Eclairs\n",
            "Hurray you have got profit of Rs 460 on Dark Fantacy\n",
            "Hurray you have got profit of Rs 725 on Bournville\n",
            "Hurray you have got profit of Rs 420 on Dark Chocolate\n",
            "Hurray Total Profit is Rs.  2384\n"
          ]
        }
      ]
    },
    {
      "cell_type": "code",
      "metadata": {
        "id": "JB3Hn_eqmhzd"
      },
      "source": [
        "fd = open(\"record.json\" , 'w')\n",
        "fd.write(js)\n",
        "fd.close()\n"
      ],
      "execution_count": 65,
      "outputs": []
    },
    {
      "cell_type": "code",
      "metadata": {
        "id": "4rtbs3TcpAhl"
      },
      "source": [
        "fd = open(\"record.json\" , 'r')\n",
        "txt = fd.read()\n",
        "fd.close()"
      ],
      "execution_count": 66,
      "outputs": []
    },
    {
      "cell_type": "code",
      "metadata": {
        "id": "R48CLwZt3Ja5"
      },
      "source": [
        ""
      ],
      "execution_count": 30,
      "outputs": []
    },
    {
      "cell_type": "code",
      "metadata": {
        "id": "6ZlFGjbE38oN"
      },
      "source": [
        ""
      ],
      "execution_count": null,
      "outputs": []
    }
  ]
}