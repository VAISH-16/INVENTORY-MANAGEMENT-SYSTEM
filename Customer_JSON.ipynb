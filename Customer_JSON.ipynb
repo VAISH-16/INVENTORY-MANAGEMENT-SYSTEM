{
  "nbformat": 4,
  "nbformat_minor": 0,
  "metadata": {
    "colab": {
      "name": "Customer.JSON",
      "provenance": [],
      "collapsed_sections": []
    },
    "kernelspec": {
      "name": "python3",
      "display_name": "Python 3"
    },
    "language_info": {
      "name": "python"
    }
  },
  "cells": [
    {
      "cell_type": "code",
      "metadata": {
        "id": "8CNZMaZXCf4Q"
      },
      "source": [
        "import json"
      ],
      "execution_count": 194,
      "outputs": []
    },
    {
      "cell_type": "code",
      "metadata": {
        "id": "xrltW_rIcbFU"
      },
      "source": [
        "record = { 556671: {'Product name' : 'Dairy Milk', 'Brand Name' : 'Cadbury', 'Opening Quantity' : 100 , 'Sales Quantity' : 50, 'Closing Quantity' : 100, 'Sale Price' : 100, 'Purchase Price': 80 },\n",
        "           556672: {'Product name' : 'Kitkat','Brand Name' : 'Nestle global', 'Opening Quantity': 100 , 'Sales Quantity':50, 'Closing Quantity':100   ,'Sale Price': 40, 'Purchase Price': 20},\n",
        "            556673: {'Product name' : 'Five star', 'Brand Name' :'Cadbury', 'Opening Quantity':100     , 'Sales Quantity': 25   , 'Closing Quantity':100    ,'Sale Price': 10, 'Purchase Price': 5},\n",
        "            556674: {'Product name' :'Eclairs', 'Brand Name' : 'Cadbury', 'Opening Quantity':100   , 'Sales Quantity': 25   , 'Closing Quantity':100    ,'Sale Price': 2, 'Purchase Price': 1},\n",
        "            556675: {'Product name' : 'Dark Fantasy', 'Brand Name' : 'SunFeast', 'Opening Quantity':100  , 'Sales Quantity':70    , 'Closing Quantity':100   ,'Sale Price': 50, 'Purchase Price':40},\n",
        "            556676: {'Product name' : 'Perk', 'Brand Name' :'Cadbury', 'Opening Quantity':100 , 'Sales Quantity': 29   , 'Closing Quantity':100   ,'Sale Price': 20, 'Purchase Price':15},\n",
        "            556677: {'Product name' :'Bournville', 'Brand Name': 'Cadbury', 'Opening Quantity':100, 'Sales Quantity': 0   , 'Closing Quantity':100   ,'Sale Price': 100 , 'Purchase Price':75},\n",
        "            556678: {'Product name' :'Dark Chocolate','Brand Name' :'Amul', 'Opening Quantity':100 , 'Sales Quantity':22    , 'Closing Quantity': 100   ,'Sale Price': 100, 'Purchase Price':80},\n",
        "             }"
      ],
      "execution_count": 195,
      "outputs": []
    },
    {
      "cell_type": "code",
      "metadata": {
        "id": "tdSb9nkpCiag"
      },
      "source": [
        "Customer_record = {'XXXX' :{'Chocolates': 'Dairy Milk, Kitkat,Five star,Snikers,Eclairs,Perk,Dark Fantasy,bournville' },\n",
        "                   998861: {'Name': 'Vaishnavi Salunkhe', 'Total purchase till now in Rs': 'Rs.2000', 'No. of purchases till now':'10','Most prefered brands':'Cadbury,Mars,Nestle Global'},\n",
        "                   998862: {'Name': 'Nimisha Patil', 'Total purchase till now in Rs': 'Rs.2000', 'No. of purchases till now':'10','Most prefered brands':'Cadbury,Mars'},\n",
        "                   998863: {'Name': 'Vaibhav Salunkhe', 'Total purchase till now in Rs': 'Rs.5000', 'No. of purchases till now':'35','Most prefered brands':'Cadbury,Nestle Global'},\n",
        "                   998864: {'Name': 'Siddhi Patil', 'Total purchase till now in Rs': 'Rs.6000', 'No. of purchases till now':'49','Most prefered brands':'Cadbury,Sunfeast,Nestle Global'},\n",
        "                   998865: {'Name': 'Roy Shah', 'Total purchase till now in Rs': 'Rs.4000', 'No. of purchases till now':'20','Most prefered brands':'Sunfeast,Mars,Nestle Global'},\n",
        "                   998866: {'Name': 'Robbin Dsouza', 'Total purchase till now in Rs': 'Rs.2000', 'No. of purchases till now':'30','Most prefered brands':'Cadbury,Mars'},\n",
        "                   998867: {'Name': 'David Dias', 'Total purchase till now in Rs': 'Rs.10000', 'No. of purchases till now':'55','Most prefered brands':'Sunfeast'},\n",
        "                   998868: {'Name': 'Ram Shah', 'Total purchase till now in Rs': 'Rs.6000', 'No. of purchases till now':'25','Most prefered brands':'Cadbury,Sunfeast'},\n",
        "                   998869:{  },998870:{  },998871:{  },998872:{  },998873:{  },998874:{  },998875:{  }\n",
        "                   }"
      ],
      "execution_count": 196,
      "outputs": []
    },
    {
      "cell_type": "code",
      "metadata": {
        "id": "8Y3kILHqGrOa"
      },
      "source": [
        "js = json.dumps(Customer_record)\n",
        "jst = json.dumps(record)"
      ],
      "execution_count": 198,
      "outputs": []
    },
    {
      "cell_type": "code",
      "metadata": {
        "colab": {
          "base_uri": "https://localhost:8080/",
          "height": 154
        },
        "id": "hg2MX7k7HDyu",
        "outputId": "9b1ff7eb-173a-42ef-e8ca-3cbc7f2eb91f"
      },
      "source": [
        "js\n",
        "jst"
      ],
      "execution_count": 199,
      "outputs": [
        {
          "output_type": "execute_result",
          "data": {
            "application/vnd.google.colaboratory.intrinsic+json": {
              "type": "string"
            },
            "text/plain": [
              "'{\"556671\": {\"Product name\": \"Dairy Milk\", \"Brand Name\": \"Cadbury\", \"Opening Quantity\": 100, \"Sales Quantity\": 50, \"Closing Quantity\": 100, \"Sale Price\": 100, \"Purchase Price\": 80}, \"556672\": {\"Product name\": \"Kitkat\", \"Brand Name\": \"Nestle global\", \"Opening Quantity\": 100, \"Sales Quantity\": 50, \"Closing Quantity\": 100, \"Sale Price\": 40, \"Purchase Price\": 20}, \"556673\": {\"Product name\": \"Five star\", \"Brand Name\": \"Cadbury\", \"Opening Quantity\": 100, \"Sales Quantity\": 25, \"Closing Quantity\": 100, \"Sale Price\": 10, \"Purchase Price\": 5}, \"556674\": {\"Product name\": \"Eclairs\", \"Brand Name\": \"Cadbury\", \"Opening Quantity\": 100, \"Sales Quantity\": 25, \"Closing Quantity\": 100, \"Sale Price\": 2, \"Purchase Price\": 1}, \"556675\": {\"Product name\": \"Dark Fantasy\", \"Brand Name\": \"SunFeast\", \"Opening Quantity\": 100, \"Sales Quantity\": 70, \"Closing Quantity\": 100, \"Sale Price\": 50, \"Purchase Price\": 40}, \"556676\": {\"Product name\": \"Perk\", \"Brand Name\": \"Cadbury\", \"Opening Quantity\": 100, \"Sales Quantity\": 29, \"Closing Quantity\": 100, \"Sale Price\": 20, \"Purchase Price\": 15}, \"556677\": {\"Product name\": \"Bournville\", \"Brand Name\": \"Cadbury\", \"Opening Quantity\": 100, \"Sales Quantity\": 0, \"Closing Quantity\": 100, \"Sale Price\": 100, \"Purchase Price\": 75}, \"556678\": {\"Product name\": \"Dark Chocolate\", \"Brand Name\": \"Amul\", \"Opening Quantity\": 100, \"Sales Quantity\": 22, \"Closing Quantity\": 100, \"Sale Price\": 100, \"Purchase Price\": 80}}'"
            ]
          },
          "metadata": {},
          "execution_count": 199
        }
      ]
    },
    {
      "cell_type": "code",
      "metadata": {
        "colab": {
          "base_uri": "https://localhost:8080/"
        },
        "collapsed": true,
        "id": "_RXopnb_HE8y",
        "outputId": "50cd56b8-d693-475f-bf94-17d750d25366"
      },
      "source": [
        "yes_no = input('Do you have a Customer_ID: ')\n",
        "if(yes_no == 'no'):\n",
        "  count=998869\n",
        "  print('Here is your Customer_ID: ',996669 )\n",
        "  count = count +1\n",
        "if(yes_no == 'yes'):\n",
        "  Customer_ID = input(\"Enter you Customer_ID \")\n",
        "  if(Customer_ID == '998861' ):\n",
        "    print('Hello, ',Customer_record[998861]['Name'],'Nice to see you again, How can i help you??? :)' )\n",
        "    print('Here are your most preffered brands',Customer_record[998861]['Most prefered brands'])\n",
        "    print('Availble Chocolates are ',Customer_record['XXXX']['Chocolates'])\n",
        "\n",
        "  elif(Customer_ID == '998862' ):\n",
        "    print('Hello, ',Customer_record[998862]['Name'],'Nice to see you again, How can i help you??? :)' )\n",
        "    print('Here are your most preffered brands',Customer_record[998862]['Most prefered brands'])\n",
        "    print('Availble Chocolates are ',Customer_record['XXXX']['Chocolates'])\n",
        "  \n",
        "  elif(Customer_ID == '998863' ):\n",
        "    print('Hello, ',Customer_record[998863]['Name'],'Nice to see you again, How can i help you??? :)' )\n",
        "    print('Here are your most preffered brands',Customer_record[998863]['Most prefered brands'])\n",
        "    print('Availble Chocolates are ',Customer_record['XXXX']['Chocolates'])\n",
        "\n",
        "  elif(Customer_ID == '998864' ):\n",
        "    print('Hello, ',Customer_record[998864]['Name'],'Nice to see you again, How can i help you??? :)' )\n",
        "    print('Here are your most preffered brands',Customer_record[998864]['Most prefered brands'])\n",
        "    print('Availble Chocolates are ',Customer_record['XXXX']['Chocolates'])\n",
        "\n",
        "  elif(Customer_ID == '998865' ):\n",
        "    print('Hello, ',Customer_record[998865]['Name'],'Nice to see you again, How can i help you??? :)' )\n",
        "    print('Here are your most preffered brands',Customer_record[998865]['Most prefered brands'])\n",
        "    print('Availble Chocolates are ',Customer_record['XXXX']['Chocolates'])\n",
        "\n",
        "  elif(Customer_ID == '998866' ):\n",
        "    print('Hello, ',Customer_record[998866]['Name'],'Nice to see you again, How can i help you??? :)' )\n",
        "    print('Here are your most preffered brands',Customer_record[998866]['Most prefered brands'])\n",
        "    print('Availble Chocolates are ',Customer_record['XXXX']['Chocolates'])\n",
        "\n",
        "  elif(Customer_ID == '998867' ):\n",
        "    print('Hello, ',Customer_record[998867]['Name'],'Nice to see you again, How can i help you??? :)' )\n",
        "    print('Here are your most preffered brands',Customer_record[998867]['Most prefered brands'])\n",
        "    print('Availble Chocolates are ',Customer_record['XXXX']['Chocolates'])\n",
        "\n",
        "  elif(Customer_ID == '998868' ):\n",
        "    print('Hello, ',Customer_record[998868]['Name'],'Nice to see you again, How can i help you??? :)' )\n",
        "    print('Here are your most preffered brands',Customer_record[998868]['Most prefered brands'])\n",
        "    print('Availble Chocolates are ',Customer_record['XXXX']['Chocolates'])\n",
        "  \n",
        "  else:\n",
        "    print('*****Invalid Customer_ID******')\n",
        "\n",
        "\n"
      ],
      "execution_count": 201,
      "outputs": [
        {
          "output_type": "stream",
          "name": "stdout",
          "text": [
            "Do you have a Customer_ID: yes\n",
            "Enter you Customer_ID 998861\n",
            "Hello,  Vaishnavi Salunkhe Nice to see you again, How can i help you??? :)\n",
            "Here are your most preffered brands Cadbury,Mars,Nestle Global\n",
            "Availble Chocolates are  Dairy Milk, Kitkat,Five star,Snikers,Eclairs,Perk,Dark Fantasy,bournville\n"
          ]
        }
      ]
    },
    {
      "cell_type": "code",
      "metadata": {
        "colab": {
          "base_uri": "https://localhost:8080/"
        },
        "id": "Sf72skNeH2GY",
        "outputId": "12609b52-42c6-49ac-a433-666847c9e6c6"
      },
      "source": [
        "print('Availble Chocolates are ',Customer_record['XXXX']['Chocolates'])\n",
        "Purchased_Chocolates1 = \"dairy milk\"\n",
        "Purchased_Chocolates2 = \"Kitkat\"\n",
        "Purchased_Chocolates3 = 'Five Star'\n",
        "Purchased_Chocolates4 = \"Eclairs\"\n",
        "Purchased_Chocolates5 = \"Dark Fantasy\"\n",
        "Purchased_Chocolates6 = \"Perk\"\n",
        "Purchased_Chocolates7 = \"Bournville\"\n",
        "Purchased_Chocolates8 = \"Dark Chocolate\"\n",
        "No_of_DairyMilk = 3 #@param {type:\"slider\", min:0, max:10, step:1}\n",
        "\n",
        "No_of_kitkat = 4 #@param {type:\"slider\", min:0, max:10, step:1}\n",
        "\n",
        "No_of_FiveStars = 4 #@param {type:\"slider\", min:0, max:10, step:1}\n",
        "\n",
        "No_of_eclairs = 4 #@param {type:\"slider\", min:0, max:10, step:1}\n",
        "\n",
        "No_of_dark_fantacy = 3 #@param {type:\"slider\", min:0, max:10, step:1}\n",
        "\n",
        "No_of_perk = 5 #@param {type:\"slider\", min:0, max:10, step:1}\n",
        "\n",
        "No_of_Bournville = 4 #@param {type:\"slider\", min:0, max:10, step:1}\n",
        "\n",
        "No_of_dark_chocolate = 3 #@param {type:\"slider\", min:0, max:10, step:1}\n",
        "\n",
        "  \n",
        "    "
      ],
      "execution_count": 203,
      "outputs": [
        {
          "output_type": "stream",
          "name": "stdout",
          "text": [
            "Availble Chocolates are  Dairy Milk, Kitkat,Five star,Snikers,Eclairs,Perk,Dark Fantasy,bournville\n"
          ]
        }
      ]
    },
    {
      "cell_type": "code",
      "metadata": {
        "colab": {
          "base_uri": "https://localhost:8080/"
        },
        "id": "Ioa4MEhiTKcJ",
        "outputId": "f3cefc92-0f7f-4c40-9005-4a69bf9d3314"
      },
      "source": [
        "Price1 = 0\n",
        "Price2 = 0\n",
        "Price3 = 0\n",
        "Price4 = 0\n",
        "Price5 = 0\n",
        "Price6 = 0\n",
        "Price7 = 0\n",
        "Price8 = 0\n",
        "\n",
        "if(No_of_DairyMilk != 0):\n",
        "  Price1 = record[556671]['Sale Price'] * No_of_DairyMilk\n",
        "  print('Dairy Milk = ', Price1)\n",
        "\n",
        "if(No_of_kitkat != 0):\n",
        "  Price2 = record[556672]['Sale Price'] * No_of_kitkat\n",
        "  print('Kitkat = ', Price2)\n",
        "\n",
        "if(No_of_FiveStars != 0):\n",
        "  Price3 = record[556672]['Sale Price'] * No_of_FiveStars\n",
        "  print('Five Stars = ', Price3)\n",
        "\n",
        "if(No_of_eclairs != 0):\n",
        "  Price4 = record[556672]['Sale Price'] * No_of_eclairs\n",
        "  print('Eclairs = ', Price4)\n",
        "\n",
        "if(No_of_dark_fantacy != 0):\n",
        "  Price5 = record[556672]['Sale Price'] * No_of_dark_fantacy\n",
        "  print('Dark Fantacy = ', Price5)\n",
        "\n",
        "if(No_of_perk != 0):\n",
        "  Price6 = record[556672]['Sale Price'] * No_of_perk\n",
        "  print('Perk = ', Price6)\n",
        "\n",
        "if(No_of_Bournville != 0):\n",
        "  Price7 = record[556672]['Sale Price'] * No_of_Bournville\n",
        "  print('Bournville = ', Price7)\n",
        "\n",
        "if(No_of_dark_chocolate != 0):\n",
        "  Price8 = record[556672]['Sale Price'] * No_of_dark_chocolate\n",
        "  print('Dark Chocolate = ', Price8)\n",
        "\n",
        "print('Total Bill is  ',Price1 +  Price2 + Price3 +  Price4 + Price5 +  Price6 + Price7 +  Price8)\n",
        "Total_Price = Price1 +  Price2 + Price3 +  Price4 + Price5 +  Price6 + Price7 +  Price8\n",
        "if(Total_Price >= 1000):\n",
        " discount = (5/100)*Total_Price\n",
        " print(\"Hurray, You have got Special Discount\", discount )\n",
        " print(\"Now your Total bill is \",Total_Price-discount )"
      ],
      "execution_count": 217,
      "outputs": [
        {
          "output_type": "stream",
          "name": "stdout",
          "text": [
            "Dairy Milk =  400\n",
            "Kitkat =  80\n",
            "Five Stars =  40\n",
            "Eclairs =  160\n",
            "Dark Fantacy =  200\n",
            "Perk =  80\n",
            "Bournville =  80\n",
            "Dark Chocolate =  120\n",
            "Total Bill is   1160\n",
            "Hurray, You have got Special Discount 58.0\n",
            "Now your Total bill is  1102.0\n"
          ]
        }
      ]
    },
    {
      "cell_type": "code",
      "metadata": {
        "id": "MmQzIsy7Tdw2"
      },
      "source": [
        "fd = open(\"Customer_record.json\" , 'w')\n",
        "fd.write(js)\n",
        "fd.close()\n"
      ],
      "execution_count": 214,
      "outputs": []
    },
    {
      "cell_type": "code",
      "metadata": {
        "id": "QRkpIuHpTyRJ"
      },
      "source": [
        "fd = open(\"Customer_record.json\" , 'r')\n",
        "txt = fd.read()\n",
        "fd.close()"
      ],
      "execution_count": 216,
      "outputs": []
    },
    {
      "cell_type": "code",
      "metadata": {
        "id": "b8PlbCTDVCne"
      },
      "source": [
        ""
      ],
      "execution_count": null,
      "outputs": []
    }
  ]
}